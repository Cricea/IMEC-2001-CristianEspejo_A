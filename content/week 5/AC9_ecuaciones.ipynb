{
 "cells": [
  {
   "cell_type": "markdown",
   "metadata": {},
   "source": [
    "# IMEC2001 Herramientas Computacionales \n",
    "## Actividad Clase 9: Sistemas de Ecuaciones\n",
    "### Fecha Límite Entrega (Bloque Neón): <font color=\"#FF5733\">23.59h de Septiembre 6, 2023</font>\n",
    "\n",
    "Universidad de los Andes — Septiembre 4, 2023.\n",
    "\n",
    "___\n",
    "### Tener en Cuenta\n",
    "La entrega de la **Actividad Clase 9** se puede realizar de dos maneras:\n",
    "1. Enviar vía Bloque Neón el archivo en Jupyter Notebook (extensión '.ipynb').\n",
    "2. Enviar vía Bloque Neón el archivo PDF del Jupyter Notebook.\n",
    "\n",
    "**Nota:** <font color=\"#FF5733\">El nombre del archivo debe ser: `AC9_NombreApellido.ipynb`.</font>\n",
    "\n",
    "---\n",
    "\n",
    "## TABLA DE CONTENIDO\n",
    "\n",
    "### Sección 1: Ejercicios [→](#section1)\n",
    "1. Ejercicio 1: Ecuaciones Lineales [→](#exercise1)\n",
    "2. Ejercicio 2: Ecuaciones No Lineales [→](#exercise2)\n",
    "___"
   ]
  },
  {
   "cell_type": "markdown",
   "metadata": {},
   "source": [
    "<a id=\"section1\"></a>\n",
    "# Sección 1: Ejercicios"
   ]
  },
  {
   "cell_type": "markdown",
   "metadata": {},
   "source": [
    "<a id=\"exercise1\"></a>\n",
    "## Ejercicio 1: Ecuaciones Lineales\n",
    "\n",
    "Se tiene el siguiente sistema de ecuaciones lineales:\n",
    "\n",
    "$$\n",
    "\\begin{cases}\n",
    "  3x_1 + 2x_2 + x_3 = 1 \\\\ \n",
    "  \\\\\n",
    "  2x_1 + 2x_2 + 4x_3 = -2 \\\\\n",
    "  \\\\\n",
    "  -x_1 + \\frac{1}{2}x_2 - x_3 = 0\n",
    "\\end{cases} \n",
    "$$\n",
    "\n",
    "<div class=\"alert alert-block alert-warning\">\n",
    "\n",
    "1. Utilizando la librería `numpy.linalg.inv` y `numpy.dots`, resuelva el sistema de ecuaciones.\n",
    "2. Utilizando la librería `numpy.linalg.solve`, resuelva el sistema de ecuaciones.\n",
    "3. Utilizando la librería `sympy.rref()`, resuelva el sistema de ecuaciones.\n",
    "4. Utilizando la librería `scipy.optimize.fsolve`, resuelva el sistema de ecuaciones.\n",
    "5. Utilizando la librería `sympy.solve`, resuelva el sistema de ecuaciones.\n",
    "    \n",
    "</div>"
   ]
  },
  {
   "cell_type": "code",
   "execution_count": 11,
   "metadata": {},
   "outputs": [
    {
     "data": {
      "text/plain": [
       "array([ 0.69230769, -0.15384615, -0.76923077])"
      ]
     },
     "execution_count": 11,
     "metadata": {},
     "output_type": "execute_result"
    }
   ],
   "source": [
    "# Sistema de Ecuaciones\n",
    "import numpy as np\n",
    "from scipy import optimize\n",
    "import sympy\n",
    "A = np.array([[3, 2, 1],\n",
    "            [2, 2, 4],\n",
    "            [-1, 0.5, -1]])\n",
    "\n",
    "b = np.array([1, -2, 0])\n",
    "\n",
    "invA = np.linalg.inv(A)\n",
    "\n",
    "x = np.dot(invA,b)\n",
    "x"
   ]
  },
  {
   "cell_type": "code",
   "execution_count": 9,
   "metadata": {},
   "outputs": [
    {
     "data": {
      "text/plain": [
       "array([ 0.69230769, -0.15384615, -0.76923077])"
      ]
     },
     "execution_count": 9,
     "metadata": {},
     "output_type": "execute_result"
    }
   ],
   "source": [
    "# Ítem 2\n",
    "A = np.array( [[3, 2, 1],\n",
    "            [2, 2, 4],\n",
    "            [-1, 0.5, -1]])\n",
    "b = np.array( [1, -2, 0] )\n",
    "x = np.linalg.solve(A, b)\n",
    "x"
   ]
  },
  {
   "cell_type": "code",
   "execution_count": 13,
   "metadata": {},
   "outputs": [
    {
     "data": {
      "text/latex": [
       "$\\displaystyle \\left[\\begin{matrix}1 & 0 & 0 & 0.692307692307692\\\\0 & 1 & 0 & -0.153846153846154\\\\0 & 0 & 1 & -0.769230769230769\\end{matrix}\\right]$"
      ],
      "text/plain": [
       "Matrix([\n",
       "[1, 0, 0,  0.692307692307692],\n",
       "[0, 1, 0, -0.153846153846154],\n",
       "[0, 0, 1, -0.769230769230769]])"
      ]
     },
     "execution_count": 13,
     "metadata": {},
     "output_type": "execute_result"
    }
   ],
   "source": [
    "# Ítem 3\n",
    "A_aumentada = sympy.Matrix( [ [3, 2, 1,1],\n",
    "                            [2, 2, 4,-2],\n",
    "                            [-1, 0.5, -1,0] ] )\n",
    "x = A_aumentada.rref()[0]\n",
    "x"
   ]
  },
  {
   "cell_type": "code",
   "execution_count": 19,
   "metadata": {},
   "outputs": [
    {
     "data": {
      "text/plain": [
       "array([ 0.69230769, -0.15384615, -0.76923077])"
      ]
     },
     "execution_count": 19,
     "metadata": {},
     "output_type": "execute_result"
    }
   ],
   "source": [
    "# Ítem 4\n",
    "import scipy\n",
    "def f(z):\n",
    "    x1 = z[0]\n",
    "    x2 = z[1]\n",
    "    x3 = z[2]\n",
    "    \n",
    "    F = np.zeros(3)\n",
    "    \n",
    "    F[0] = 3 * x1 + 2 * x2 +x3 - 1\n",
    "    F[1] = 2 * x1 + 2 * x2 + 4 * x3 + 2\n",
    "    F[2] = -1 * x1 + 0.5 * x2 - x3 \n",
    "    \n",
    "    return F\n",
    "\n",
    "rango = [1,1,1]\n",
    "x = scipy.optimize.fsolve(func = f, \n",
    "                       x0=rango)\n",
    "x"
   ]
  },
  {
   "cell_type": "code",
   "execution_count": 21,
   "metadata": {},
   "outputs": [
    {
     "data": {
      "text/plain": [
       "{x_1: 0.692307692307692, x_2: -0.153846153846154, x_3: -0.769230769230769}"
      ]
     },
     "execution_count": 21,
     "metadata": {},
     "output_type": "execute_result"
    }
   ],
   "source": [
    "# Ítem 5\n",
    "x1 = sympy.Symbol('x_1')\n",
    "x2 = sympy.Symbol('x_2')\n",
    "x3 = sympy.Symbol('x_3')\n",
    "ec1 = sympy.Eq(3*x1 + 2*x2 + x3, 1) # La derecha de la igualdad va después de la coma\n",
    "ec2 = sympy.Eq(2*x1 + 2*x2 + 4 * x3, -2)\n",
    "ec3 = sympy.Eq(-1*x1 + 0.5*x2 + -1 * x3, 0)\n",
    "sol = sympy.solve([ec1, ec2, ec3], # Lista de ecuaciones\n",
    "                  [x1, x2, x3]) # Lista de símbolos\n",
    "sol"
   ]
  },
  {
   "cell_type": "markdown",
   "metadata": {},
   "source": [
    "<a id='exercise2'></a>\n",
    "## Ejercicio 2: Ecuaciones No Lineales\n",
    "\n",
    "Se tiene el siguiente sistema de ecuaciones no lineales:\n",
    "\n",
    "$$\n",
    "\\begin{cases}\n",
    "  x^2 + y^2 = 1 \\\\ \n",
    "  \\\\\n",
    "  xy + yz = -1.1 \\\\\n",
    "  \\\\\n",
    "  y^2 + z^2 = 2\n",
    "\\end{cases} \n",
    "$$\n",
    "\n",
    "<div class=\"alert alert-block alert-warning\">\n",
    "\n",
    "1. Utilizando la librería `scipy.optimize.fsolve`, resuelva el sistema de ecuaciones.\n",
    "1. Utilizando la librería `scipy.optimize.roots`, resuelva el sistema de ecuaciones.\n",
    "3. Utilizando la librería `sympy.solve`, resuelva el sistema de ecuaciones.\n",
    "    \n",
    "</div>"
   ]
  },
  {
   "cell_type": "code",
   "execution_count": 31,
   "metadata": {},
   "outputs": [
    {
     "name": "stdout",
     "output_type": "stream",
     "text": [
      "[1.00000001e+00 2.09774608e-08 1.07677546e+00] [-0.10056089  0.99493091 -1.00504353] [ 0.86413935 -0.5032526   1.32164172]\n"
     ]
    }
   ],
   "source": [
    "# Ítem 1\n",
    "import scipy\n",
    "def f(a):\n",
    "    x = a[0]\n",
    "    y = a[1]\n",
    "    z = a[2]\n",
    "    F = np.zeros(3)\n",
    "    \n",
    "    F[0] = x**2 + y**2 - 1\n",
    "    F[1] = x * y + y * z + 1.1\n",
    "    F[2] = y**2  + z**2 - 2\n",
    "    return F\n",
    "\n",
    "rango1 = [1,0,0]\n",
    "rango2 = [0,1,0]\n",
    "rango3 = [0,0,1]\n",
    "rx = scipy.optimize.fsolve(func = f, \n",
    "                       x0=rango1)\n",
    "ry = scipy.optimize.fsolve(func = f, \n",
    "                       x0=rango2)\n",
    "rz = scipy.optimize.fsolve(func = f, \n",
    "                       x0=rango3)\n",
    "\n",
    "\n",
    "print(rx,ry,rz)"
   ]
  },
  {
   "cell_type": "code",
   "execution_count": 34,
   "metadata": {},
   "outputs": [
    {
     "name": "stdout",
     "output_type": "stream",
     "text": [
      "    fjac: array([[-1.61549782e-08, -2.36533520e-01, -9.71623329e-01],\n",
      "       [ 6.63607978e-08,  9.71623329e-01, -2.36533520e-01],\n",
      "       [-1.00000000e+00,  6.82988932e-08,  5.87932515e-16]])\n",
      "     fun: array([ 2.07871205e-08,  1.10000004e+00, -8.40554610e-01])\n",
      " message: 'The solution converged.'\n",
      "    nfev: 14\n",
      "     qtf: array([5.56515586e-01, 1.26760505e+00, 5.43416645e-08])\n",
      "       r: array([-1.71157941e+08,  4.71175646e+15, -9.17932239e+07,  1.14703748e+15,\n",
      "       -2.23462883e+07,  7.77156117e-15])\n",
      "  status: 1\n",
      " success: True\n",
      "       x: array([1.00000001e+00, 2.09774608e-08, 1.07677546e+00])     fjac: array([[-0.18907198,  0.91737905,  0.35023916],\n",
      "       [-0.73771525,  0.10270272, -0.66725434],\n",
      "       [ 0.64809567,  0.38453587, -0.65734631]])\n",
      "     fun: array([-1.38777878e-14,  6.43929354e-15,  4.44089210e-15])\n",
      " message: 'The solution converged.'\n",
      "    nfev: 36\n",
      "     qtf: array([ 1.17947895e-10, -1.38956292e-10, -1.57561291e-10])\n",
      "       r: array([ 1.1344938 , -1.02323895,  0.44160252, -2.50451838,  1.12393376,\n",
      "        1.38381356])\n",
      "  status: 1\n",
      " success: True\n",
      "       x: array([-0.10056089,  0.99493091, -1.00504353])     fjac: array([[-0.93328638,  0.34030239,  0.11476423],\n",
      "       [-0.24958576, -0.84437113,  0.47407209],\n",
      "       [-0.25823146, -0.41380151, -0.8729747 ]])\n",
      "     fun: array([6.53987975e-12, 1.59716684e-12, 5.92548233e-12])\n",
      " message: 'The solution converged.'\n",
      "    nfev: 32\n",
      "     qtf: array([-5.50329203e-10,  1.20197051e-11, -8.38101099e-10])\n",
      "       r: array([-1.63001169,  1.41591216, -0.01048668, -2.07736085,  1.67178208,\n",
      "       -2.31945138])\n",
      "  status: 1\n",
      " success: True\n",
      "       x: array([ 0.86413935, -0.5032526 ,  1.32164172])\n"
     ]
    }
   ],
   "source": [
    "# Ítem 2\n",
    "def f(a):\n",
    "    ## Definimos las incógnitas\n",
    "    x = a[0]\n",
    "    y = a[1]\n",
    "    z = a[2]\n",
    "    F = np.zeros(3)\n",
    "    ## Creamos una lista vacía para alojar las funciones\n",
    "    F = np.array( [ x**2 + y**2 - 1,\n",
    "                    x * y + y * z + 1.1,\n",
    "                    y**2  + z**2 - 2])\n",
    "    \n",
    "    return F\n",
    "estimacion = [1, 1,]\n",
    "rango1 = [1,0,0]\n",
    "rango2 = [0,1,0]\n",
    "rango3 = [0,0,1]\n",
    "rx = optimize.root(fun = f, \n",
    "                       x0=rango1)\n",
    "ry = optimize.root(fun = f, \n",
    "                       x0=rango2)\n",
    "rz = optimize.root(fun = f, \n",
    "                       x0=rango3)\n",
    "\n",
    "print(rx,ry,rz)"
   ]
  },
  {
   "cell_type": "code",
   "execution_count": null,
   "metadata": {},
   "outputs": [],
   "source": [
    "# Ítem 3\n"
   ]
  }
 ],
 "metadata": {
  "kernelspec": {
   "display_name": "Python 3 (ipykernel)",
   "language": "python",
   "name": "python3"
  },
  "language_info": {
   "codemirror_mode": {
    "name": "ipython",
    "version": 3
   },
   "file_extension": ".py",
   "mimetype": "text/x-python",
   "name": "python",
   "nbconvert_exporter": "python",
   "pygments_lexer": "ipython3",
   "version": "3.9.12"
  },
  "toc": {
   "base_numbering": 1,
   "nav_menu": {},
   "number_sections": false,
   "sideBar": true,
   "skip_h1_title": true,
   "title_cell": "Table of Contents",
   "title_sidebar": "Contents",
   "toc_cell": false,
   "toc_position": {},
   "toc_section_display": true,
   "toc_window_display": false
  }
 },
 "nbformat": 4,
 "nbformat_minor": 2
}
