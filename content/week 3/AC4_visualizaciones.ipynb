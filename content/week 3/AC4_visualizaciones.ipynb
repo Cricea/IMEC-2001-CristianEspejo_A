{
 "cells": [
  {
   "attachments": {},
   "cell_type": "markdown",
   "metadata": {},
   "source": [
    "# IMEC2001 Herramientas Computacionales \n",
    "## Actividad Clase 4: Visualizaciones\n",
    "### Fecha Límite Entrega (Bloque Neón): <font color=\"#FF5733\">2359 de Agosto 28, 2023</font>\n",
    "\n",
    "Universidad de los Andes — Agosto 23, 2023.\n",
    "\n",
    "___\n",
    "### Tener en Cuenta\n",
    "La entrega de la **Actividad Clase 4** se puede realizar de dos maneras:\n",
    "1. Enviar vía Bloque Neón el archivo en Jupyter Notebook (extensión '.ipynb').\n",
    "2. Enviar vía Bloque Neón el archivo PDF del Jupyter Notebook.\n",
    "\n",
    "**Nota:** <font color=\"#FF5733\">El nombre del archivo debe ser: `AC4_NombreApellido.ipynb`.</font>\n",
    "\n",
    "---\n",
    "\n",
    "## TABLA DE CONTENIDO\n",
    "\n",
    "### Sección 1: Ejercicios [→](#section1)\n",
    "1. Librerías [→](#exercise1)\n",
    "2. Gráficas [→](#exercise2)\n",
    "3. (BONO) Comportamiento Estadístico Mensual [→](#exercise3)\n",
    "___"
   ]
  },
  {
   "cell_type": "markdown",
   "metadata": {},
   "source": [
    "<a id=\"section1\"></a>\n",
    "# Sección 1: Ejercicios"
   ]
  },
  {
   "cell_type": "markdown",
   "metadata": {},
   "source": [
    "<a id=\"exercise1\"></a>\n",
    "## Ejercicio 1: Librerías\n",
    "\n",
    "### Punto 1\n",
    "En la carpeta `data` dentro de `week2` se dispone el archivo `solar_production.csv` que contiene datos de producción de la planta solar fotovoltaica ubicada en el edificio Santo Domingo de la Universidad de los Andes.\n",
    "\n",
    "<div class=\"alert alert-block alert-warning\">\n",
    "    \n",
    "Utilizando la librería `pandas`, escriba un algoritmo que permita:\n",
    "1. Indicar la cantidad de filas y columnas que tiene el conjunto de datos.\n",
    "2. Obtener una descripción estadística de las columnas de datos. Para esto, explore la función `describe()`.\n",
    "3. Indicar los años y meses en que se registraron los datos, guardarlos en una variable diferente cada uno (i.e., una variable para los años y otra para los meses) y no deben quedar valores duplicados ([aquí](https://pandas.pydata.org/docs/reference/api/pandas.DataFrame.drop_duplicates.html)).\n",
    "\n",
    "</div>"
   ]
  },
  {
   "cell_type": "code",
   "execution_count": 2,
   "metadata": {},
   "outputs": [
    {
     "data": {
      "text/html": [
       "<div>\n",
       "<style scoped>\n",
       "    .dataframe tbody tr th:only-of-type {\n",
       "        vertical-align: middle;\n",
       "    }\n",
       "\n",
       "    .dataframe tbody tr th {\n",
       "        vertical-align: top;\n",
       "    }\n",
       "\n",
       "    .dataframe thead th {\n",
       "        text-align: right;\n",
       "    }\n",
       "</style>\n",
       "<table border=\"1\" class=\"dataframe\">\n",
       "  <thead>\n",
       "    <tr style=\"text-align: right;\">\n",
       "      <th></th>\n",
       "      <th>Datetime</th>\n",
       "      <th>Zenith (deg)</th>\n",
       "      <th>Elevation (deg)</th>\n",
       "      <th>Azimuth (deg)</th>\n",
       "      <th>Airmass Relative (ad)</th>\n",
       "      <th>Airmass Absolute (ad)</th>\n",
       "      <th>Extraterrestrial Radiation (W/m2)</th>\n",
       "      <th>POA (W/m2)</th>\n",
       "      <th>Tmod (C)</th>\n",
       "      <th>Pdc (W)</th>\n",
       "      <th>Pac (W)</th>\n",
       "      <th>Daily Energy (Wh)</th>\n",
       "      <th>Weekly Energy (Wh)</th>\n",
       "      <th>Monthly Energy (Wh)</th>\n",
       "    </tr>\n",
       "  </thead>\n",
       "  <tbody>\n",
       "    <tr>\n",
       "      <th>0</th>\n",
       "      <td>2020-01-01 00:00:00-05:00</td>\n",
       "      <td>161.56</td>\n",
       "      <td>-71.56</td>\n",
       "      <td>179.60</td>\n",
       "      <td>NaN</td>\n",
       "      <td>NaN</td>\n",
       "      <td>1407.65</td>\n",
       "      <td>0.0</td>\n",
       "      <td>27.48</td>\n",
       "      <td>0.0</td>\n",
       "      <td>0.0</td>\n",
       "      <td>257541.88</td>\n",
       "      <td>NaN</td>\n",
       "      <td>NaN</td>\n",
       "    </tr>\n",
       "    <tr>\n",
       "      <th>1</th>\n",
       "      <td>2020-01-01 00:05:00-05:00</td>\n",
       "      <td>161.51</td>\n",
       "      <td>-71.51</td>\n",
       "      <td>175.97</td>\n",
       "      <td>NaN</td>\n",
       "      <td>NaN</td>\n",
       "      <td>1407.65</td>\n",
       "      <td>0.0</td>\n",
       "      <td>27.36</td>\n",
       "      <td>0.0</td>\n",
       "      <td>0.0</td>\n",
       "      <td>NaN</td>\n",
       "      <td>NaN</td>\n",
       "      <td>NaN</td>\n",
       "    </tr>\n",
       "    <tr>\n",
       "      <th>2</th>\n",
       "      <td>2020-01-01 00:10:00-05:00</td>\n",
       "      <td>161.39</td>\n",
       "      <td>-71.39</td>\n",
       "      <td>172.38</td>\n",
       "      <td>NaN</td>\n",
       "      <td>NaN</td>\n",
       "      <td>1407.65</td>\n",
       "      <td>0.0</td>\n",
       "      <td>26.91</td>\n",
       "      <td>0.0</td>\n",
       "      <td>0.0</td>\n",
       "      <td>NaN</td>\n",
       "      <td>NaN</td>\n",
       "      <td>NaN</td>\n",
       "    </tr>\n",
       "    <tr>\n",
       "      <th>3</th>\n",
       "      <td>2020-01-01 00:15:00-05:00</td>\n",
       "      <td>161.19</td>\n",
       "      <td>-71.19</td>\n",
       "      <td>168.85</td>\n",
       "      <td>NaN</td>\n",
       "      <td>NaN</td>\n",
       "      <td>1407.65</td>\n",
       "      <td>0.0</td>\n",
       "      <td>26.33</td>\n",
       "      <td>0.0</td>\n",
       "      <td>0.0</td>\n",
       "      <td>NaN</td>\n",
       "      <td>NaN</td>\n",
       "      <td>NaN</td>\n",
       "    </tr>\n",
       "    <tr>\n",
       "      <th>4</th>\n",
       "      <td>2020-01-01 00:20:00-05:00</td>\n",
       "      <td>160.91</td>\n",
       "      <td>-70.91</td>\n",
       "      <td>165.41</td>\n",
       "      <td>NaN</td>\n",
       "      <td>NaN</td>\n",
       "      <td>1407.65</td>\n",
       "      <td>0.0</td>\n",
       "      <td>25.79</td>\n",
       "      <td>0.0</td>\n",
       "      <td>0.0</td>\n",
       "      <td>NaN</td>\n",
       "      <td>NaN</td>\n",
       "      <td>NaN</td>\n",
       "    </tr>\n",
       "  </tbody>\n",
       "</table>\n",
       "</div>"
      ],
      "text/plain": [
       "                    Datetime  Zenith (deg)  Elevation (deg)  Azimuth (deg)  \\\n",
       "0  2020-01-01 00:00:00-05:00        161.56           -71.56         179.60   \n",
       "1  2020-01-01 00:05:00-05:00        161.51           -71.51         175.97   \n",
       "2  2020-01-01 00:10:00-05:00        161.39           -71.39         172.38   \n",
       "3  2020-01-01 00:15:00-05:00        161.19           -71.19         168.85   \n",
       "4  2020-01-01 00:20:00-05:00        160.91           -70.91         165.41   \n",
       "\n",
       "   Airmass Relative (ad)  Airmass Absolute (ad)  \\\n",
       "0                    NaN                    NaN   \n",
       "1                    NaN                    NaN   \n",
       "2                    NaN                    NaN   \n",
       "3                    NaN                    NaN   \n",
       "4                    NaN                    NaN   \n",
       "\n",
       "   Extraterrestrial Radiation (W/m2)  POA (W/m2)  Tmod (C)  Pdc (W)  Pac (W)  \\\n",
       "0                            1407.65         0.0     27.48      0.0      0.0   \n",
       "1                            1407.65         0.0     27.36      0.0      0.0   \n",
       "2                            1407.65         0.0     26.91      0.0      0.0   \n",
       "3                            1407.65         0.0     26.33      0.0      0.0   \n",
       "4                            1407.65         0.0     25.79      0.0      0.0   \n",
       "\n",
       "   Daily Energy (Wh)  Weekly Energy (Wh)  Monthly Energy (Wh)  \n",
       "0          257541.88                 NaN                  NaN  \n",
       "1                NaN                 NaN                  NaN  \n",
       "2                NaN                 NaN                  NaN  \n",
       "3                NaN                 NaN                  NaN  \n",
       "4                NaN                 NaN                  NaN  "
      ]
     },
     "execution_count": 2,
     "metadata": {},
     "output_type": "execute_result"
    }
   ],
   "source": [
    "import pandas as pd\n",
    "route = './data/solar_production.csv'\n",
    "\n",
    "file = pd.read_csv(filepath_or_buffer=route,\n",
    "                   delimiter=';')\n",
    "file.head()"
   ]
  },
  {
   "cell_type": "code",
   "execution_count": null,
   "metadata": {},
   "outputs": [],
   "source": [
    "# Ítem 1\n",
    "print(f'El archivo tiene {file.shape[0]} filas y {file.shape[1]} columnas.')"
   ]
  },
  {
   "cell_type": "code",
   "execution_count": null,
   "metadata": {},
   "outputs": [],
   "source": [
    "# Ítem 2\n",
    "file.describe()\n"
   ]
  },
  {
   "cell_type": "code",
   "execution_count": 18,
   "metadata": {},
   "outputs": [
    {
     "name": "stdout",
     "output_type": "stream",
     "text": [
      "[1, 2, 3, 4, 5, 6, 7, 8, 9, 10, 11, 12] [2020, 2021]\n"
     ]
    }
   ],
   "source": [
    "# Ítem 3\n",
    "meses=pd.DatetimeIndex(file[\"Datetime\"]).month.drop_duplicates().tolist()\n",
    "años=pd.DatetimeIndex(file[\"Datetime\"]).year.drop_duplicates().tolist()\n",
    "\n",
    "print(meses,años)"
   ]
  },
  {
   "cell_type": "markdown",
   "metadata": {},
   "source": [
    "### Punto 2\n",
    "\n",
    "<div class=\"alert alert-block alert-warning\">\n",
    "    \n",
    "Utilizando la librería `numpy`, escriba un algoritmo que:\n",
    "1. Cree una función que permita realizar una lista de ceros de longitud `n`(este debe ser el parámetor de entrada). \n",
    "2. Cree una función que haga una lista con un rango desde `num1` hasta `num2` y que tenga 5 elementos ([aquí](https://numpy.org/doc/stable/reference/generated/numpy.linspace.html)); para los anteriores la entrada es con `input()`.\n",
    "\n",
    "</div>"
   ]
  },
  {
   "cell_type": "code",
   "execution_count": 24,
   "metadata": {},
   "outputs": [
    {
     "name": "stdout",
     "output_type": "stream",
     "text": [
      "[0, 0, 0, 0, 0]\n"
     ]
    }
   ],
   "source": [
    "# Ítem 1\n",
    "def list_0(n:int)->list:\n",
    "    n=int(input(\"Ingrese n:\"))\n",
    "    lista=[]\n",
    "    for i in range(0,n):\n",
    "        lista.append(0)\n",
    "    print (lista)\n",
    "list_0(5)\n",
    "\n"
   ]
  },
  {
   "cell_type": "code",
   "execution_count": 25,
   "metadata": {},
   "outputs": [
    {
     "data": {
      "text/plain": [
       "array([ 1.  ,  8.25, 15.5 , 22.75, 30.  ])"
      ]
     },
     "execution_count": 25,
     "metadata": {},
     "output_type": "execute_result"
    }
   ],
   "source": [
    "# Ítem 2\n",
    "import numpy as np\n",
    "def lista_creada(num_1,num_2:int)->list:\n",
    "    num_1=int(input(\"Ingrese num_1: \"))\n",
    "    num_2=int(input(\"Ingrese num_2: \"))\n",
    "    rta=np.linspace(num_1,num_2, 5)\n",
    "    return rta\n",
    "lista_creada(1,30)"
   ]
  },
  {
   "cell_type": "markdown",
   "metadata": {},
   "source": [
    "<a id='exercise2'></a>\n",
    "### Ejercicio 2: Gráficas\n",
    "\n",
    "En la carpeta `data` dentro de `week2` se dispone el archivo `solar_production.csv` que contiene datos de producción de la planta solar fotovoltaica ubicada en el edificio Santo Domingo de la Universidad de los Andes.\n",
    "\n",
    "<div class=\"alert alert-block alert-warning\">\n",
    "    \n",
    "Utilizando la librería `pandas` y `matplotlib.pyplot`, escriba un algoritmo que permita realizar tres gráficas diferentes de su interés.\n",
    "\n",
    "</div>"
   ]
  },
  {
   "cell_type": "code",
   "execution_count": null,
   "metadata": {},
   "outputs": [],
   "source": [
    "import pandas as pd\n",
    "import matplotlib.pyplot as plt\n",
    "\n",
    "route = './data/solar_production.csv'\n",
    "\n",
    "file = pd.read_csv(filepath_or_buffer=route,\n",
    "                   delimiter=';')\n",
    "x = file['Engine']\n",
    "y = file['Maximum Brake Horsepower (BHP)']\n",
    "\n",
    "plt.bar(x, y)"
   ]
  },
  {
   "cell_type": "markdown",
   "metadata": {},
   "source": [
    "<a id='exercise3'></a>\n",
    "### (BONO) Ejercicio 3: Comportamiento Estadístico Mensual\n",
    "\n",
    "En la carpeta `data` dentro de `week2` se dispone el archivo `SD_5Min.xlsx` que contiene las **mediciones** de los valores de producción de la planta solar fotovoltaica ubicada en el edificio Santo Domingo de la Universidad de los Andes, desde 1-Agosto-2019 hasta 30-Junio-2021.\n",
    "\n",
    "<div class=\"alert alert-block alert-warning\">\n",
    "    \n",
    "Escriba un algoritmo que permita obtener los valores máximo, promedio y mínimo para todos los días de un mes durante cada instante de tiempo. Es decir:\n",
    "\n",
    "<img src='./img/table_excercise.png' width='650'/>\n",
    "\n",
    "Note que:\n",
    "- La primera columna contiene las estampas de tiempo para un día completo, es decir, un dato cinco minutal desde las 00:00 hasta las 23:55.\n",
    "- Se tiene una columna de datos de irradiancia por día; es decir, 30 o 31 columnas de datos.\n",
    "- Se agregan las columnas de interés: mínimo, promedio y máximo. Estas son columnas calculadas con las 30 o 31 columnas de datos. Por ejemplo:\n",
    "    - Columna: Mínimo, Fila: 11:55 -> min(800, 700, 880, ..., 630) = 630\n",
    "    - Columna: Promedio, Fila: 12:00 -> mean(850, 680, 930, ..., 720) = 795\n",
    "    - Columna: Máximo, Fila: 12:05 -> max(1010, 810, 850, ..., 760) = 1010\n",
    "- La gráfica se genera al graficar en una misma figura: (i.) Tiempo vs Mín, (ii.) Tiempo vs Prom, (iii.) Tiempo vs. Max.\n",
    "</div>\n",
    "\n",
    "___\n",
    "\n",
    "**Ejemplo** <br>\n",
    "<font color=\"#FF5733\">Output</font>\n",
    "<img src='./img/irradiance_per_minute.png' width='750'/>\n",
    "\n",
    "**Nota:** Solo se solicita la gráfica de los datos mínimo, promedio y máximo, es decir, los marcadores color azul, verde y naranja en esta figura.\n",
    "___"
   ]
  },
  {
   "cell_type": "code",
   "execution_count": null,
   "metadata": {},
   "outputs": [],
   "source": []
  }
 ],
 "metadata": {
  "kernelspec": {
   "display_name": "Python 3 (ipykernel)",
   "language": "python",
   "name": "python3"
  },
  "language_info": {
   "codemirror_mode": {
    "name": "ipython",
    "version": 3
   },
   "file_extension": ".py",
   "mimetype": "text/x-python",
   "name": "python",
   "nbconvert_exporter": "python",
   "pygments_lexer": "ipython3",
   "version": "3.9.12"
  },
  "toc": {
   "base_numbering": 1,
   "nav_menu": {},
   "number_sections": false,
   "sideBar": true,
   "skip_h1_title": true,
   "title_cell": "Table of Contents",
   "title_sidebar": "Contents",
   "toc_cell": false,
   "toc_position": {},
   "toc_section_display": true,
   "toc_window_display": false
  }
 },
 "nbformat": 4,
 "nbformat_minor": 2
}
