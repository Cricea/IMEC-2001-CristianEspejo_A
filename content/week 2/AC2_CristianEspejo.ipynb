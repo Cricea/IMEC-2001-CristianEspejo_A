{
 "cells": [
  {
   "attachments": {},
   "cell_type": "markdown",
   "id": "33b4f99a",
   "metadata": {},
   "source": [
    "# IMEC2001 Herramientas Computacionales \n",
    "## Actividad Clase 2: Introducción\n",
    "### Fecha Límite Entrega (Bloque Neón): <font color=\"#FF5733\">23.59h de Agosto 16, 2023</font>\n",
    "\n",
    "Universidad de los Andes — Marzo 31, 2023.\n",
    "\n",
    "___\n",
    "### Tener en Cuenta\n",
    "La entrega de la **Actividad Clase 2** se puede realizar de dos maneras:\n",
    "1. Enviar vía Bloque Neón el archivo en Jupyter Notebook (extensión '.ipynb').\n",
    "2. Enviar vía Bloque Neón el archivo PDF del Jupyter Notebook.\n",
    "\n",
    "**Nota:** <font color=\"#FF5733\">El nombre del archivo debe ser: `AC2_NombreApellido.ipynb`.</font>\n",
    "\n",
    "---\n",
    "\n",
    "## TABLA DE CONTENIDO\n",
    "\n",
    "### Sección 1: Ejercicios [→](#section1)\n",
    "1. Asignación de Variables y Tipos de Datos [→](#exercise1)\n",
    "2. Operaciones Matemáticas [→](#exercise2)\n",
    "2. Matemática Básica en Python [→](#exercise3)\n",
    "3. Condicionales *If-Elseif-Else* [→](#exercise4)\n",
    "4. Iteradores y Condicionales [→](#exercise5)\n",
    "5. Funciones [→](#exercise6)\n",
    "___"
   ]
  },
  {
   "cell_type": "markdown",
   "id": "9db123bd",
   "metadata": {},
   "source": [
    "<a id=\"section1\"></a>\n",
    "# Sección 1: Ejercicios"
   ]
  },
  {
   "cell_type": "markdown",
   "id": "03ba3cf9",
   "metadata": {},
   "source": [
    "<a id=\"exercise1\"></a>\n",
    "## 1. Asignación de Variables y Tipos de Datos\n",
    "\n",
    "<div class=\"alert alert-block alert-warning\">\n",
    "    \n",
    "Realizar dos (2) asignaciones de cada tipo de dato:\n",
    "* String (`str`)\n",
    "* Integer (`int`)\n",
    "* Float (`float`)\n",
    "* Boolean (`bool`)\n",
    "* List (`list`)\n",
    "* Diccionario (`dict`)\n",
    "\n",
    "</div>\n",
    "\n",
    "___\n",
    "**Ejemplo** <br>\n",
    "<font color=\"#FF5733\">Output</font>\n",
    "```python\n",
    "palabra_1 = \"Hola\"\n",
    "\n",
    "num_1_in = 4\n",
    "\n",
    "num_1_fl = 10.5\n",
    "\n",
    "verdadero = True\n",
    "\n",
    "lista_4 = [\"Hola\", 1, 2.0, [\"mundo\"]] \n",
    "\n",
    "dic = {\"llave_1\": \"valor\",\n",
    "       \"llave_2\": 2,\n",
    "       \"llave_3\": 1.5,\n",
    "       \"llave_4\": ['4']}\n",
    "```\n",
    "___"
   ]
  },
  {
   "cell_type": "code",
   "execution_count": 40,
   "id": "af458009",
   "metadata": {},
   "outputs": [
    {
     "name": "stdout",
     "output_type": "stream",
     "text": [
      "Cristian Camilo 19 18 1.85 20.03 True False ['piña', 'fresa', 'manzana', 'mango'] ['uno', 2, 3, 4, 'cinco'] {'nombre': 'Cristian', 'edad': 19, 'altura': 1.85} {'cosas1': ['piña', 'fresa', 'manzana', 'mango'], 'cosas2': ['uno', 2, 3, 4, 'cinco']}\n"
     ]
    }
   ],
   "source": [
    "nombre1=\"Cristian\"\n",
    "nombre2=\"Camilo\"\n",
    "edad1=19\n",
    "dia_cumpleaños=18\n",
    "estatura=1.85\n",
    "num_float2=20.03\n",
    "bool1=True\n",
    "bool2=False\n",
    "frutas=[\"piña\",\"fresa\",\"manzana\",\"mango\"]\n",
    "numeros=[\"uno\",2,3,4,\"cinco\"]\n",
    "personas={\"nombre\":nombre1,\n",
    "          \"edad\":edad1,\n",
    "          \"altura\":estatura}\n",
    "cosas={\"cosas1\":frutas,\n",
    "       \"cosas2\":numeros}\n",
    "print(nombre1,nombre2,edad1,dia_cumpleaños,estatura,num_float2,bool1,bool2,frutas,numeros,personas,cosas)"
   ]
  },
  {
   "cell_type": "markdown",
   "id": "6f04f1e3",
   "metadata": {},
   "source": [
    "<a id=\"exercise2\"></a>\n",
    "## 2. Operaciones Matemáticas\n",
    "\n",
    "<div class=\"alert alert-block alert-warning\">\n",
    "    \n",
    "Escriba un programa que le pida al usuario que ingrese dos números, `x` y `y`, y calcule:\n",
    "\n",
    "$$\n",
    "\\frac{| x - y |}{x + y}\n",
    "$$ \n",
    "\n",
    "</div>\n",
    "\n",
    "<div class='alert alert-block alert-info'> \n",
    "\n",
    "<i class='fa fa-info-circle' aria-hidden='true'></i>\n",
    "Puede obtener más información para calcular el valor absoluto en Python dando clic [aquí](https://www.geeksforgeeks.org/abs-in-python/).\n",
    "</div>\n",
    "\n",
    "___\n",
    "**Ejemplo** <br>\n",
    "<font color=\"#FF5733\">Input</font>\n",
    "```python\n",
    "x = 10\n",
    "y = 5\n",
    "```\n",
    "<font color=\"#FF5733\">Output</font>\n",
    "```python\n",
    "resultado = 0.33\n",
    "```\n",
    "___"
   ]
  },
  {
   "cell_type": "code",
   "execution_count": 41,
   "id": "ffb18494",
   "metadata": {},
   "outputs": [
    {
     "name": "stdout",
     "output_type": "stream",
     "text": [
      "0.33\n"
     ]
    }
   ],
   "source": [
    "x=10\n",
    "y=5\n",
    "l1=abs(x-y)\n",
    "l2=x+y\n",
    "rta=l1/l2\n",
    "print(round(rta,2))\n"
   ]
  },
  {
   "cell_type": "markdown",
   "id": "1b103853",
   "metadata": {},
   "source": [
    "<a id=\"exercise3\"></a>\n",
    "## 3. Matemática Básica en Python\n",
    "\n",
    "Se dan los siguientes datos para un cliente en un banco: nombre, saldo promedio y número de transacciones realizadas durante el mes. Se requiere calcular el interés devengado y el cargo por servicio.\n",
    "\n",
    "El interés se calcula de la siguiente manera: \n",
    "\n",
    "$$\n",
    "Interés = 3\\% · Saldo \\: Promedio\n",
    "$$\n",
    "\n",
    "El cargo por servicio se calcula así:\n",
    "\n",
    "$$\n",
    "Cargo \\: por \\: Servicio = 75/100 · Transacción\n",
    "$$\n",
    "\n",
    "<div class=\"alert alert-block alert-warning\">\n",
    "    \n",
    "Escriba un algoritmo que calcula el interés y el cargo por servicio a partir de los siguientes datos:\n",
    "> **Nombre:** Noel Kalicharan <br>\n",
    "> **Saldo Promedio:** 5550 <br>\n",
    "> **Número de Transacciones:** 7 <br>\n",
    "\n",
    "También, explore cómo hacer más dinámico el algoritmo a partir de entradas por teclado del nombre del cliente, el interés y el cargo por servicio. Para esto, use la función input().\n",
    "\n",
    "**Nota:** Las entradas por teclado *siempre* son tipo String (`str`), por tanto, si tenemos números (`int` o `float`), debemos transformarlos de la siguiente manera: `int(<entrada>)` o `float(<entrada>)`. \n",
    "\n",
    "</div>\n",
    "\n",
    "___\n",
    "**Ejemplo** <br>\n",
    "<font color=\"#FF5733\">Input</font>\n",
    "```python\n",
    "nombre = \"Noel Kalicharan\"\n",
    "saldo_prom = 5550\n",
    "num_transacciones = 7\n",
    "```\n",
    "<font color=\"#FF5733\">Output</font>\n",
    "```python\n",
    "interes = 166.5\n",
    "cargo_servicio = 5.25\n",
    "```\n",
    "___"
   ]
  },
  {
   "cell_type": "code",
   "execution_count": 1,
   "id": "def0d32b",
   "metadata": {},
   "outputs": [
    {
     "name": "stdout",
     "output_type": "stream",
     "text": [
      "interes: 166.5 cargo_servicio: 5.25\n"
     ]
    }
   ],
   "source": [
    "# Definición inputs \n",
    "nombre = input(\"Digite el nombre: \")\n",
    "saldo_prom = int(input(\"Saldo Promedio del cliente: \"))\n",
    "num_transacciones = int(input(\"Número de transacciones del mes: \"))\n",
    "\n",
    "# Implementación fórmulas\n",
    "interes=(0.03*saldo_prom)\n",
    "cargo_servicio= ((75/100)*num_transacciones)\n",
    "\n",
    "print(\"interes:\",interes,\n",
    "      \"cargo_servicio:\",cargo_servicio)\n"
   ]
  },
  {
   "cell_type": "markdown",
   "id": "d63b0533",
   "metadata": {},
   "source": [
    "<a id=\"exercise4\"></a>\n",
    "## Ejercicio 4: Condicionales *If-Elseif-Else*\n",
    "\n",
    "### Punto 1\n",
    "\n",
    "Se tienen dos números definidos vía entrada por teclado, al igual que un operador matemático básico (i.e., `+`, `-`, `*`, `/`).\n",
    "\n",
    "<div class=\"alert alert-block alert-warning\">\n",
    "    \n",
    "Escriba un algoritmo que ejecute la operación matemática entre los dos números definidos vía entrada por teclado, y lo imprima en pantalla con la sintaxis:\n",
    "\n",
    "```python\n",
    "\"La <operación> entre <número 1> y <número 2> es <resultado>. \n",
    "```\n",
    "\n",
    "¿Cómo restrinje una división entre cero o una operación por un caracter diferente a un operador matemático?\n",
    "\n",
    "</div>\n",
    "\n",
    "___\n",
    "**Ejemplo 1** <br>\n",
    "<font color=\"#FF5733\">Input</font>\n",
    "```python\n",
    "num1 = 25\n",
    "num2 = 5\n",
    "oper = *\n",
    "```\n",
    "<font color=\"#FF5733\">Output</font>\n",
    "```julia\n",
    "\"La multiplicación entre 25 y 5 es 125.\"\n",
    "```\n",
    "\n",
    "**Ejemplo 2** <br>\n",
    "<font color=\"#FF5733\">Input</font>\n",
    "```python\n",
    "num1 = 12\n",
    "num2 = 0\n",
    "oper = /\n",
    "```\n",
    "<font color=\"#FF5733\">Output</font>\n",
    "```julia\n",
    "\"¡No se puede dividir entre 0!\"\n",
    "```\n",
    "\n",
    "**Ejemplo 3** <br>\n",
    "<font color=\"#FF5733\">Input</font>\n",
    "```python\n",
    "num1 = 3\n",
    "num2 = 7\n",
    "oper = x\n",
    "```\n",
    "<font color=\"#FF5733\">Output</font>\n",
    "```python\n",
    "\"ERROR: No seleccionó un operador correcto.\"\n",
    "```\n",
    "___"
   ]
  },
  {
   "cell_type": "code",
   "execution_count": null,
   "id": "4f209ebc",
   "metadata": {},
   "outputs": [
    {
     "name": "stdout",
     "output_type": "stream",
     "text": [
      "la división entre  4.0  y  2.0 es igual a: 2.0\n"
     ]
    }
   ],
   "source": [
    "operador = input(\"Operador matemático: \")\n",
    "numero_1 = float(input(\"Número 1: \"))\n",
    "numero_2 = float(input(\"Número 2: \"))\n",
    "\n",
    "if (operador == '+'):\n",
    "    res = numero_1 + numero_2\n",
    "    print(\"la suma entre \", numero_1 ,\" y \" , numero_2 , \"es igual a:\", res)\n",
    "elif (operador == '-'):\n",
    "    res = numero_1 - numero_2\n",
    "    print(\"la resta entre \", numero_1 ,\" y \" , numero_2 , \"es igual a:\", res)\n",
    "elif (operador == '*'):\n",
    "    res = numero_1 * numero_2\n",
    "    print(\"la multiplicación entre \", numero_1 ,\" y \" , numero_2 , \"es igual a:\", res)\n",
    "elif (operador == '/'):\n",
    "    if numero_2==0:\n",
    "        print(\"¡No se puede dividir entre 0!\")\n",
    "    else:\n",
    "        res = numero_1 / numero_2\n",
    "        print(\"la división entre \", numero_1 ,\" y \" , numero_2 , \"es igual a:\", res)\n",
    "else:\n",
    "    print(\"El operador definido no es correcto\")  \n"
   ]
  },
  {
   "cell_type": "markdown",
   "id": "7c0c4860",
   "metadata": {},
   "source": [
    "### Punto 2\n",
    "\n",
    "<div class=\"alert alert-block alert-warning\">\n",
    "    \n",
    "Escriba un algoritmo que pida al usuario que ingrese una temperatura en grados Celsius. El programa debe imprimir un mensaje basado en la temperatura:\n",
    "    \n",
    "- Si la temperatura es inferior a -273,15, imprima: `La temperatura no es válida porque está por debajo del cero absoluto.`\n",
    "- Si es exactamente -273.15, imprima: `La temperatura es 0 absoluto.`\n",
    "- Si la temperatura está entre -273,15 y 0, imprima: `La temperatura está por debajo del punto de congelación.`\n",
    "- Si es 0, imprima: `La temperatura está en el punto de congelación.`\n",
    "- Si está entre 0 y 100, imprima: `La temperatura está en el rango normal.`\n",
    "- Si es 100, imprima: `La temperatura está en el punto de ebullición.`\n",
    "- Si es superior a 100, imprima: `La temperatura está por encima del punto de ebullición.`\n",
    "\n",
    "</div>\n",
    "\n",
    "___\n",
    "**Ejemplo 1** <br>\n",
    "<font color=\"#FF5733\">Input</font>\n",
    "```python\n",
    "temperatura = 30\n",
    "```\n",
    "<font color=\"#FF5733\">Output</font>\n",
    "```python\n",
    "\"La temperatura está en el rango normal.\"\n",
    "```\n",
    "\n",
    "**Ejemplo 2** <br>\n",
    "<font color=\"#FF5733\">Input</font>\n",
    "```python\n",
    "temperatura = 100.1\n",
    "```\n",
    "<font color=\"#FF5733\">Output</font>\n",
    "```python\n",
    "\"La temperatura está por encima del punto de ebullición.\"\n",
    "```\n",
    "___"
   ]
  },
  {
   "cell_type": "code",
   "execution_count": null,
   "id": "ec85e2c9",
   "metadata": {},
   "outputs": [
    {
     "name": "stdout",
     "output_type": "stream",
     "text": [
      "la temperatura esta por encima del punto de ebullición\n"
     ]
    }
   ],
   "source": [
    "temperatua=float(input(\"Por favor ingrese la temperatura en grados Celsius: \"))\n",
    "if temperatua < (-273.15):\n",
    "    print(\"la temperatura no es valida porque esta por debajo del 0 absoluto\")\n",
    "elif temperatua == (-273.15):\n",
    "    print(\"la temperatura es 0 absoluto\")\n",
    "elif temperatua > (-273.15) and temperatua < (0) :\n",
    "    print(\"la temperatura esta por debajo del punto de congelación\")\n",
    "elif temperatua > (0) and temperatua < 100:\n",
    "    print(\"la temperatura esta en el rango normal\")\n",
    "elif temperatua == (100):\n",
    "    print(\"la temperatura esta en el punto de ebullición\")\n",
    "elif temperatua > (100):\n",
    "    print(\"la temperatura esta por encima del punto de ebullición\")\n"
   ]
  },
  {
   "cell_type": "markdown",
   "id": "59e5b54e",
   "metadata": {},
   "source": [
    "<a id=\"exercise5\"></a>\n",
    "## Ejercicio 5: Iteradores y Condicionales\n",
    "\n",
    "Se tienen el conjunto de información de los meses y la respectiva cantidad de días en una estructura `list`. \n",
    "\n",
    "<div class=\"alert alert-block alert-warning\">\n",
    "    \n",
    " <ol>\n",
    "  <li>Escriba un algoritmo que imprima un diccionario que contiene los nombres de los meses con menos de 31 días y el respectivo número de días.</li>\n",
    "  <li>Escriba un algoritmo que imprima una lista que contiene los nombres de los meses con menos de 31 días y el respectivo número de días.</li>\n",
    "</ol>\n",
    "</div>\n",
    "\n",
    "___\n",
    "**Ejemplo** <br>\n",
    "<font color=\"#FF5733\">Output</font>\n",
    "```python\n",
    "{'Febrero': 28,\n",
    " 'Abril': 30,\n",
    " 'Junio': 30,\n",
    " 'Septiembre': 30,\n",
    " 'Noviembre': 30}\n",
    "\n",
    "[\"Febrero - 28\", \"Abril - 30\", \"Junio - 30\", \"Septiembre - 30\", \"Noviembre - 30\"]\n",
    "```\n",
    "___"
   ]
  },
  {
   "cell_type": "code",
   "execution_count": 44,
   "id": "fdd3fdd8",
   "metadata": {},
   "outputs": [
    {
     "name": "stdout",
     "output_type": "stream",
     "text": [
      "{'Febrero': 28, 'Abril': 30, 'Junio': 30, 'Septiembre': 30, 'Noviembre': 30}\n",
      "['Febrero - 28', 'Abril - 30', 'Junio - 30', 'Septiembre - 30', 'Noviembre - 30']\n"
     ]
    }
   ],
   "source": [
    "meses = [\"Enero\", \"Febrero\", \"Marzo\", \"Abril\", \"Mayo\", \"Junio\", \"Julio\",\n",
    "         \"Agosto\", \"Septiembre\", \"Octubre\", \"Noviembre\", \"Diciembre\"]\n",
    "\n",
    "dias = [31, 28, 31, 30, 31, 30, 31, 31, 30, 31, 30, 31]\n",
    "\n",
    "DiccionarioRta= {}\n",
    "\n",
    "i=0\n",
    "\n",
    "for i in range(len(meses)):\n",
    "    if dias[i] <31:\n",
    "        DiccionarioRta[ meses[i]]= dias[i]\n",
    "\n",
    "\n",
    "listarta=[]\n",
    "i=0\n",
    "\n",
    "for i in range( len(meses)):\n",
    "    if dias[i] <31:\n",
    "        listarta.append (str(meses[i])+ \" - \" + str (dias[i]))\n",
    "        \n",
    "print(DiccionarioRta)\n",
    "print(listarta)\n",
    "\n",
    "    \n",
    "    \n",
    "       \n"
   ]
  },
  {
   "cell_type": "markdown",
   "id": "519fbddc",
   "metadata": {},
   "source": [
    "<a id=\"exercise6\"></a>\n",
    "## Ejercicio 6: Funciones\n",
    "\n",
    "### Punto 1\n",
    "\n",
    "Se busca preparar la nómina de una pequeña empresa. Los datos suministrados son el número de horas trabajadas (`num_horas`) y la tasa de pago (`tasa_pago`). Para esto, se tienen las siguientes condiciones:\n",
    "\n",
    "- Si `num_horas` es menor o igual a 40, calculamos el pago regular (`pago_regular`) multiplicando `num_horas` por `tasa_pago`, y el pago de horas extras (`pago_extras`) es igual a 0.\n",
    "\n",
    "\n",
    "- Si `num_horas` es mayor a 40, calculamos el pago regular multiplicando 40 por `tasa_pago` y el pago de horas extras así: $(num\\_horas - 40) · tasa\\_pago · 1.5$. \n",
    "\n",
    "El salario neto (`neto`) se calcula sumando el pago regular (`pago_regular`) y el pago de horas extras (`pago_extras`).\n",
    "\n",
    "<div class=\"alert alert-block alert-warning\">\n",
    "    \n",
    "Escriba un algoritmo que permita calcular el pago de nómina de la pequeña empresa.\n",
    "\n",
    "</div>\n",
    "\n",
    "___\n",
    "**Ejemplo** <br>\n",
    "<font color=\"#FF5733\">Input</font>\n",
    "```python\n",
    "horas_trabajadas = 30\n",
    "pago_por_hora = 25\n",
    "```\n",
    "<font color=\"#FF5733\">Output</font>\n",
    "```python\n",
    "neto = 750\n",
    "```\n",
    "___"
   ]
  },
  {
   "cell_type": "code",
   "execution_count": 2,
   "id": "63f880e5",
   "metadata": {},
   "outputs": [
    {
     "name": "stdout",
     "output_type": "stream",
     "text": [
      "El salario 750.0 se calcula sumando el pago regular:  750.0  y el pago de horas extras:  0\n"
     ]
    }
   ],
   "source": [
    "num_horas=float(input(\"Por favor ingrese la cantidad de horas trabajadas: \"))\n",
    "pago_regular=None\n",
    "tasa_pago=25\n",
    "pago_extras=None\n",
    "    \n",
    "if num_horas<=40:\n",
    "    pago_regular=num_horas*tasa_pago\n",
    "    pago_extras=0\n",
    "    neto=pago_regular+pago_extras\n",
    "    print(\"El salario\",neto,\"se calcula sumando el pago regular: \" , pago_regular, \" y el pago de horas extras: \",pago_extras)\n",
    "elif num_horas>40:\n",
    "    pago_regular=40*tasa_pago\n",
    "    pago_extras=(num_horas-40)*(tasa_pago*1.5)\n",
    "    neto=pago_regular+pago_extras\n",
    "    print(\"El salario\",neto,\"se calcula sumando el pago regular: \" , pago_regular, \" y el pago de horas extras: \",pago_extras)\n"
   ]
  },
  {
   "cell_type": "markdown",
   "id": "906ddb6c",
   "metadata": {},
   "source": [
    "### Punto 2\n",
    "\n",
    "<div class=\"alert alert-block alert-warning\">\n",
    "\n",
    "Cree una función `func` que reciba de entrada la función `f` (definida a continuación) y cuatro números como parámetros. Esta función `func` debe ejecutar la función `f` dos veces (la primera con los dos primeros números, y la última con los dos números finales). Con los dos resultados (i.e., al ejecutar dos veces y por separado la función `f`), calcular la **raíz de la suma de los cuadrados**. Este valor se debe imprimir en pantalla (i.e., `print()`) y retornar (i.e., `return`).\n",
    "\n",
    "</div>\n",
    "\n",
    "```python\n",
    "def f(x, y):\n",
    "    return x + y    \n",
    "```\n",
    "\n",
    "___\n",
    "**Ejemplo** <br>\n",
    "<font color=\"#FF5733\">Input</font>\n",
    "```python\n",
    "num_1 = 1\n",
    "num_2 = 2\n",
    "num_3 = 3\n",
    "num_4 = 4\n",
    "```\n",
    "<font color=\"#FF5733\">Output</font>\n",
    "```python\n",
    "rta = 7.615773105863909\n",
    "```\n",
    "___\n"
   ]
  },
  {
   "cell_type": "code",
   "execution_count": 9,
   "id": "05e2dd45",
   "metadata": {},
   "outputs": [
    {
     "data": {
      "text/plain": [
       "7.615773105863909"
      ]
     },
     "execution_count": 9,
     "metadata": {},
     "output_type": "execute_result"
    }
   ],
   "source": [
    "def f(x, y):\n",
    "    return x + y \n",
    "def func(f,num_1,num_2,num_3,num_4:float)->float:\n",
    "    \n",
    "    num1=f(num_1,num_2)\n",
    "    num2=f(num_3,num_4)\n",
    "\n",
    "    return math.sqrt(num1**2 +num2**2)\n",
    "\n",
    "func(f,1,2,3,4)\n",
    "\n"
   ]
  }
 ],
 "metadata": {
  "kernelspec": {
   "display_name": "Python 3 (ipykernel)",
   "language": "python",
   "name": "python3"
  },
  "language_info": {
   "codemirror_mode": {
    "name": "ipython",
    "version": 3
   },
   "file_extension": ".py",
   "mimetype": "text/x-python",
   "name": "python",
   "nbconvert_exporter": "python",
   "pygments_lexer": "ipython3",
   "version": "3.9.12"
  }
 },
 "nbformat": 4,
 "nbformat_minor": 5
}
