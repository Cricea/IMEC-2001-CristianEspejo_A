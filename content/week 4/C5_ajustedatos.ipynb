{
 "cells": [
  {
   "attachments": {},
   "cell_type": "markdown",
   "metadata": {},
   "source": [
    "# IMEC2001 Herramientas Computacionales\n",
    "## Semana 3: Interpolación y Curva de Bomba\n",
    "### Clase 5: Ajuste de Datos\n",
    "\n",
    "Universidad de los Andes — Agosto 29, 2023.\n",
    "\n",
    "---\n",
    "\n",
    "## TABLA DE CONTENIDO\n",
    "\n",
    "### Sección 1: Ajuste de Datos (Regresión OLS) [→](#section1)\n",
    "- 1.1. Cargar Librerías\n",
    "- 1.2. Mínimos Cuadrados Ordinarios (OLS)\n",
    "    - 1.2.1. Gráfica MBHP vs Masa\n",
    "    - 1.2.2. Ajuste Lineal con `numpy`\n",
    "    - 1.2.3. Ajuste Lineal con `scipy`\n",
    "    - 1.2.4. Ajuste Lineal con `sklearn`\n",
    "- 1.3. Caso Práctico\n",
    "- 1.4. Histogramas\n",
    "___"
   ]
  },
  {
   "cell_type": "markdown",
   "metadata": {},
   "source": [
    "<a id=\"section1\"></a>\n",
    "# Sección 1: Ajuste de Datos (Regresión OLS)"
   ]
  },
  {
   "cell_type": "markdown",
   "metadata": {},
   "source": [
    "## 1.1. Cargar Librerías\n",
    "\n",
    "Primero, asegurémonos de haber instalado las librerías:\n",
    "\n",
    "> ```python\n",
    "  !pip install numpy\n",
    "  !pip install sklearn\n",
    "  ```"
   ]
  },
  {
   "cell_type": "code",
   "execution_count": 1,
   "metadata": {},
   "outputs": [],
   "source": [
    "# Datos y Gráficas\n",
    "%matplotlib inline\n",
    "import matplotlib.pyplot as plt\n",
    "import pandas as pd\n",
    "\n",
    "# OLS\n",
    "import numpy as np\n",
    "import scipy\n",
    "import sklearn"
   ]
  },
  {
   "cell_type": "markdown",
   "metadata": {},
   "source": [
    "## 1.2. Mínimos Cuadrados Ordinarios (OLS)\n",
    "\n",
    "Un ajuste (o <font color=\"#FF5733\">regresión</font>) es una función  $f(x)$ que se aproxima a unos datos sin que necesariamente pase sobre ellos (Vidal, 2017). Ahora bien, un ajuste lineal (o <font color=\"#FF5733\">regresión lineal</font>) busca la determinación de la ecuación de la **recta** que mejor ajusta a una distribución bidimensional (i.e., $x$ y $y$) de datos (Franco, 2016).\n",
    "\n",
    "$$\n",
    "Y = aX + b\n",
    "$$\n",
    "\n",
    "Siendo $Y$ la variable dependiente, $X$ la variable independiente, $a$ la pendiente y $b$ el intercepto con el eje vertical (i.e., eje $Y$).\n",
    "\n",
    "El método de **mínimos cuadrados ordinarios** (OLS, por sus siglas en inglés) es un ejercicio de optimización del error cuadrático $e^2$. Es decir, se minimiza la suma de cuadrados de las diferencias (llamados residuos) entre los puntos generados por la función y los correspondientes valores en los datos medidos (Wikipedia, 2021).\n",
    "\n",
    "$$\n",
    "\\sum_{i=1}^{n} e_i^2 = \\sum_{i=1}^{n} \\left( y_i - \\hat{y}_i \\right )^2\n",
    "$$\n",
    "\n",
    "<img src='./img/OLS.png' width='350'/>\n",
    "\n",
    "Figura tomada de [Cuemath - Least Squares](https://www.cuemath.com/data/least-squares/)."
   ]
  },
  {
   "cell_type": "code",
   "execution_count": 2,
   "metadata": {},
   "outputs": [
    {
     "data": {
      "text/html": [
       "<div>\n",
       "<style scoped>\n",
       "    .dataframe tbody tr th:only-of-type {\n",
       "        vertical-align: middle;\n",
       "    }\n",
       "\n",
       "    .dataframe tbody tr th {\n",
       "        vertical-align: top;\n",
       "    }\n",
       "\n",
       "    .dataframe thead th {\n",
       "        text-align: right;\n",
       "    }\n",
       "</style>\n",
       "<table border=\"1\" class=\"dataframe\">\n",
       "  <thead>\n",
       "    <tr style=\"text-align: right;\">\n",
       "      <th></th>\n",
       "      <th>Index</th>\n",
       "      <th>Engine</th>\n",
       "      <th>Mass (Kg)</th>\n",
       "      <th>Number of Cylinders</th>\n",
       "      <th>Strokes per Cycle</th>\n",
       "      <th>Displacement (cm3)</th>\n",
       "      <th>Bore (mm)</th>\n",
       "      <th>Stroke (mm)</th>\n",
       "      <th>Maximum Brake Horsepower (BHP)</th>\n",
       "      <th>Revolutions per Minute (RPM)</th>\n",
       "    </tr>\n",
       "  </thead>\n",
       "  <tbody>\n",
       "    <tr>\n",
       "      <th>0</th>\n",
       "      <td>1</td>\n",
       "      <td>Webra Speedy</td>\n",
       "      <td>0.135</td>\n",
       "      <td>1</td>\n",
       "      <td>2</td>\n",
       "      <td>1.8</td>\n",
       "      <td>13.5</td>\n",
       "      <td>12.5</td>\n",
       "      <td>0.45</td>\n",
       "      <td>22000</td>\n",
       "    </tr>\n",
       "    <tr>\n",
       "      <th>1</th>\n",
       "      <td>2</td>\n",
       "      <td>Motori Cipolla</td>\n",
       "      <td>0.150</td>\n",
       "      <td>1</td>\n",
       "      <td>2</td>\n",
       "      <td>2.5</td>\n",
       "      <td>15.0</td>\n",
       "      <td>14.0</td>\n",
       "      <td>1.00</td>\n",
       "      <td>26000</td>\n",
       "    </tr>\n",
       "    <tr>\n",
       "      <th>2</th>\n",
       "      <td>3</td>\n",
       "      <td>Webra Speed 20</td>\n",
       "      <td>0.250</td>\n",
       "      <td>1</td>\n",
       "      <td>2</td>\n",
       "      <td>3.4</td>\n",
       "      <td>16.5</td>\n",
       "      <td>16.0</td>\n",
       "      <td>0.78</td>\n",
       "      <td>22000</td>\n",
       "    </tr>\n",
       "    <tr>\n",
       "      <th>3</th>\n",
       "      <td>4</td>\n",
       "      <td>Webra 40</td>\n",
       "      <td>0.270</td>\n",
       "      <td>1</td>\n",
       "      <td>2</td>\n",
       "      <td>6.5</td>\n",
       "      <td>21.0</td>\n",
       "      <td>19.0</td>\n",
       "      <td>0.96</td>\n",
       "      <td>15500</td>\n",
       "    </tr>\n",
       "    <tr>\n",
       "      <th>4</th>\n",
       "      <td>5</td>\n",
       "      <td>Webra 61 Blackhead</td>\n",
       "      <td>0.430</td>\n",
       "      <td>1</td>\n",
       "      <td>2</td>\n",
       "      <td>10.0</td>\n",
       "      <td>24.0</td>\n",
       "      <td>22.0</td>\n",
       "      <td>1.55</td>\n",
       "      <td>14000</td>\n",
       "    </tr>\n",
       "  </tbody>\n",
       "</table>\n",
       "</div>"
      ],
      "text/plain": [
       "   Index              Engine  Mass (Kg)  Number of Cylinders  \\\n",
       "0      1        Webra Speedy      0.135                    1   \n",
       "1      2      Motori Cipolla      0.150                    1   \n",
       "2      3      Webra Speed 20      0.250                    1   \n",
       "3      4            Webra 40      0.270                    1   \n",
       "4      5  Webra 61 Blackhead      0.430                    1   \n",
       "\n",
       "   Strokes per Cycle  Displacement (cm3)  Bore (mm)  Stroke (mm)  \\\n",
       "0                  2                 1.8       13.5         12.5   \n",
       "1                  2                 2.5       15.0         14.0   \n",
       "2                  2                 3.4       16.5         16.0   \n",
       "3                  2                 6.5       21.0         19.0   \n",
       "4                  2                10.0       24.0         22.0   \n",
       "\n",
       "   Maximum Brake Horsepower (BHP)  Revolutions per Minute (RPM)  \n",
       "0                            0.45                         22000  \n",
       "1                            1.00                         26000  \n",
       "2                            0.78                         22000  \n",
       "3                            0.96                         15500  \n",
       "4                            1.55                         14000  "
      ]
     },
     "execution_count": 2,
     "metadata": {},
     "output_type": "execute_result"
    }
   ],
   "source": [
    "df = pd.read_excel(io='./data/engines.xlsx', \n",
    "                   sheet_name='Data')\n",
    "\n",
    "df.head()"
   ]
  },
  {
   "cell_type": "markdown",
   "metadata": {},
   "source": [
    "### 1.2.1. Gráfica MBHP vs Masa"
   ]
  },
  {
   "cell_type": "code",
   "execution_count": 3,
   "metadata": {},
   "outputs": [
    {
     "data": {
      "image/png": "[encoded data removed]",
      "text/plain": [
       "<Figure size 576x360 with 1 Axes>"
      ]
     },
     "metadata": {
      "needs_background": "light"
     },
     "output_type": "display_data"
    }
   ],
   "source": [
    "hor = 8\n",
    "ver = 5\n",
    "plt.figure(figsize=(hor, ver))\n",
    "\n",
    "x = df['Mass (Kg)'].values\n",
    "y = df['Maximum Brake Horsepower (BHP)'].values\n",
    "\n",
    "plt.plot(x, y, linestyle='', marker='o', markerfacecolor='white', markeredgecolor='dodgerblue', ms=10)\n",
    "\n",
    "plt.rcParams['axes.axisbelow'] = True\n",
    "\n",
    "plt.title('Relación MBHP y Masa', fontsize=15)\n",
    "plt.ylabel('MBHP', fontsize=13)\n",
    "plt.xlabel('Masa (Kg)', fontsize=13)\n",
    "\n",
    "plt.tick_params(direction='out', length=5, width=0.75, grid_alpha=0.3)\n",
    "plt.xticks(rotation=0)\n",
    "plt.minorticks_on()\n",
    "plt.ylim(None, None)\n",
    "plt.xlim(None, None)\n",
    "plt.grid(True)\n",
    "plt.grid(visible=True, which='major', color='grey', linestyle='-')\n",
    "plt.grid(visible=True, which='minor', color='lightgrey', linestyle='-', alpha=0.2)\n",
    "#plt.legend(loc='best', fontsize=11)\n",
    "plt.tight_layout;"
   ]
  },
  {
   "cell_type": "markdown",
   "metadata": {},
   "source": [
    "Al observar la gráfica anterior, se evidencia poca linealidad entre los datos. Por ende, para conseguir una buena interpretación, se procede a obtener la respectiva relación logarítimica, es decir $log \\: \\text{MBHP}$ vs. $log \\: \\text{Masa}$.\n",
    "\n",
    "En este caso (ambos ejes con valores logarítmicos), tenemos que la pendiente $a$ y el intercepto $b$ es:\n",
    "\n",
    "$$\n",
    "Y = aX + log(b) \n",
    "$$"
   ]
  },
  {
   "cell_type": "code",
   "execution_count": 4,
   "metadata": {},
   "outputs": [
    {
     "data": {
      "image/png": "[encoded data removed]",
      "text/plain": [
       "<Figure size 576x360 with 1 Axes>"
      ]
     },
     "metadata": {
      "needs_background": "light"
     },
     "output_type": "display_data"
    }
   ],
   "source": [
    "hor = 8\n",
    "ver = 5\n",
    "plt.figure(figsize=(hor, ver))\n",
    "\n",
    "x = np.log10(df['Mass (Kg)'].values)\n",
    "y = np.log10(df['Maximum Brake Horsepower (BHP)'].values)\n",
    "\n",
    "plt.plot(x, y, linestyle='', marker='o', markerfacecolor='white', markeredgecolor='dodgerblue', ms=10) #plt.plot\n",
    "\n",
    "plt.rcParams['axes.axisbelow'] = True\n",
    "\n",
    "plt.title('Relación log MBHP y log Masa', fontsize=15)\n",
    "plt.ylabel('MBHP', fontsize=13)\n",
    "plt.xlabel('Masa (Kg)', fontsize=13)\n",
    "\n",
    "plt.tick_params(direction='out', length=5, width=0.75, grid_alpha=0.3)\n",
    "plt.xticks(rotation=0)\n",
    "plt.minorticks_on()\n",
    "plt.ylim(None, None)\n",
    "plt.xlim(None, None)\n",
    "plt.grid(True)\n",
    "plt.grid(visible=True, which='major', color='grey', linestyle='-')\n",
    "plt.grid(visible=True, which='minor', color='lightgrey', linestyle='-', alpha=0.2)\n",
    "#plt.legend(loc='best', fontsize=11)\n",
    "plt.tight_layout;"
   ]
  },
  {
   "cell_type": "code",
   "execution_count": 5,
   "metadata": {},
   "outputs": [
    {
     "data": {
      "image/png": "[encoded data removed]",
      "text/plain": [
       "<Figure size 576x360 with 1 Axes>"
      ]
     },
     "metadata": {
      "needs_background": "light"
     },
     "output_type": "display_data"
    }
   ],
   "source": [
    "hor = 8\n",
    "ver = 5\n",
    "plt.figure(figsize=(hor, ver))\n",
    "\n",
    "x = df['Mass (Kg)'].values\n",
    "y = df['Maximum Brake Horsepower (BHP)'].values\n",
    "\n",
    "plt.loglog(x, y, linestyle='', marker='o', markerfacecolor='white', markeredgecolor='dodgerblue', ms=10) # plt.loglog\n",
    "\n",
    "plt.rcParams['axes.axisbelow'] = True\n",
    "\n",
    "plt.title('Relación log MBHP y log Masa', fontsize=15)\n",
    "plt.ylabel('MBHP', fontsize=13)\n",
    "plt.xlabel('Masa (Kg)', fontsize=13)\n",
    "\n",
    "plt.tick_params(direction='out', length=5, width=0.75, grid_alpha=0.3)\n",
    "plt.xticks(rotation=0)\n",
    "plt.minorticks_on()\n",
    "plt.ylim(None, None)\n",
    "plt.xlim(None, None)\n",
    "plt.grid(True)\n",
    "plt.grid(visible=True, which='major', color='grey', linestyle='-')\n",
    "plt.grid(visible=True, which='minor', color='lightgrey', linestyle='-', alpha=0.2)\n",
    "#plt.legend(loc='best', fontsize=11)\n",
    "plt.tight_layout;"
   ]
  },
  {
   "cell_type": "markdown",
   "metadata": {},
   "source": [
    "¡Perfecto! Con esta transformación, ahora podemos ver que efectivamente hay una relación lineal entre las variables $\\texttt{Masa}$ y $\\texttt{MBHP}$."
   ]
  },
  {
   "cell_type": "markdown",
   "metadata": {},
   "source": [
    "### 1.2.2. Ajuste Lineal con `numpy`\n",
    "\n",
    "Una función que nos permite realizar un ajuste lineal con el método OLS es `numpy.polyfit`.\n",
    "\n",
    "La función `numpy.polyfit` permite ajustar un polinomio de grado `n` (en este caso, $n=1$) a un conjunto de puntos $(x, y)$. Esta tiene los siguientes parámetros de entrada principales:\n",
    "\n",
    "- `x` y `y`: Coordenadas del conjunto.\n",
    "- `deg`: Grado del polinomio de ajuste.\n",
    "\n",
    "<div class='alert alert-block alert-info'>   \n",
    "    \n",
    "<i class='fa fa-info-circle' aria-hidden='true'></i>\n",
    "Puede obtener más información en la documentación oficial de la librería `numpy.polyfit` dando clic [aquí](https://numpy.org/doc/stable/reference/generated/numpy.polyfit.html).\n",
    "</div>\n",
    "\n",
    "Ahora, la función `numpy.poly1d` es un buen complemento, pues se utiliza para encapsular operaciones típicas en polinomios 1D (e.g., evaluación en nuevas coordenadas o raíces).\n",
    "\n",
    "<div class='alert alert-block alert-info'>   \n",
    "    \n",
    "<i class='fa fa-info-circle' aria-hidden='true'></i>\n",
    "Puede obtener más información en la documentación oficial de la librería `numpy.poly1d` dando clic [aquí](https://numpy.org/doc/stable/reference/generated/numpy.poly1d.html).\n",
    "</div>\n",
    "\n",
    "Pero... ¿qué es un modelo lineal (o ecuación lineal)?\n",
    "\n",
    "<div class=\"alert alert-block alert-success\">\n",
    "Es una ecuación de primer grado (es decir, involucra una o más variables a la primera potencia) y no contiene productos entre las variables, es decir, la ecuación solo involucra sumas y restas de una variable a la primera potencia.\n",
    "</div>"
   ]
  },
  {
   "cell_type": "code",
   "execution_count": 6,
   "metadata": {},
   "outputs": [
    {
     "data": {
      "text/plain": [
       "array([0.85898297, 0.39524968])"
      ]
     },
     "execution_count": 6,
     "metadata": {},
     "output_type": "execute_result"
    }
   ],
   "source": [
    "# PASO 1. Asignar variables\n",
    "x_values = np.log10(df['Mass (Kg)'].values)\n",
    "y_values = np.log10(df['Maximum Brake Horsepower (BHP)'].values)\n",
    "\n",
    "# PASO 2. Ajuste polinomial (1D) de mínimos cuadrados\n",
    "coef = np.polyfit(x=x_values, y=y_values, deg=1) # Note el parámetro 'deg'\n",
    "coef"
   ]
  },
  {
   "cell_type": "code",
   "execution_count": 7,
   "metadata": {},
   "outputs": [
    {
     "name": "stdout",
     "output_type": "stream",
     "text": [
      " \n",
      "0.859 x + 0.3952\n"
     ]
    }
   ],
   "source": [
    "# PASO 3. Crear clase polinomio 1D\n",
    "poly1d_fn = np.poly1d(coef)\n",
    "print(poly1d_fn)"
   ]
  },
  {
   "cell_type": "code",
   "execution_count": 8,
   "metadata": {},
   "outputs": [
    {
     "name": "stderr",
     "output_type": "stream",
     "text": [
      "C:\\Users\\ASUS\\AppData\\Local\\Temp\\ipykernel_48708\\946628867.py:7: UserWarning: color is redundantly defined by the 'color' keyword argument and the fmt string \"--k\" (-> color='k'). The keyword argument will take precedence.\n",
      "  plt.plot(x_values,\n"
     ]
    },
    {
     "data": {
      "image/png": "[encoded data removed]",
      "text/plain": [
       "<Figure size 576x360 with 1 Axes>"
      ]
     },
     "metadata": {
      "needs_background": "light"
     },
     "output_type": "display_data"
    }
   ],
   "source": [
    "# PASO 4. Gráfica\n",
    "hor = 8\n",
    "ver = 5\n",
    "plt.figure(figsize=(hor, ver))\n",
    "\n",
    "## 4.1. Gráfica del OLS\n",
    "plt.plot(x_values,\n",
    "         poly1d_fn(x_values),\n",
    "         '--k',\n",
    "         color='crimson',\n",
    "         linewidth=1,\n",
    "         zorder=10,\n",
    "         label=(f'y = {np.round(coef[0], 2)} $\\cdot$ X + {np.round(coef[1], 2)}'))\n",
    "\n",
    "## 4.2. Gráfica de datos\n",
    "plt.plot(x_values, y_values, color='dodgerblue', ls='', marker='o', ms=10, fillstyle='none')\n",
    "\n",
    "## 5.3. Otros parámetros\n",
    "plt.rcParams['axes.axisbelow'] = True\n",
    "\n",
    "plt.title('Relación log MBHP y log Masa', fontsize=15)\n",
    "plt.ylabel('MBHP', fontsize=13)\n",
    "plt.xlabel('Masa (Kg)', fontsize=13)\n",
    "\n",
    "plt.tick_params(direction='out', length=5, width=0.75, grid_alpha=0.3)\n",
    "plt.xticks(rotation=0)\n",
    "plt.minorticks_on()\n",
    "plt.ylim(None, None)\n",
    "plt.xlim(None, None)\n",
    "plt.grid(True)\n",
    "plt.grid(visible=True, which='major', color='grey', linestyle='-')\n",
    "plt.grid(visible=True, which='minor', color='lightgrey', linestyle='-', alpha=0.2)\n",
    "plt.legend(loc='best', fontsize=11)\n",
    "plt.tight_layout;"
   ]
  },
  {
   "cell_type": "markdown",
   "metadata": {},
   "source": [
    "### 1.2.3. Ajuste Lineal con `scipy`\n",
    "\n",
    "Similar a `numpy.polyfit`, la función `scipy.stats.linregress` permite realizar la regresión por mínimos cuadrados (i.e., *OLS*) a un conjunto de mediciones. No obstante, **retorna más parámetros estadísticos de interés**.\n",
    "\n",
    "- `x` y `y`: Coordenadas del conjunto.\n",
    "\n",
    "<div class='alert alert-block alert-info'>   \n",
    "    \n",
    "<i class='fa fa-info-circle' aria-hidden='true'></i>\n",
    "Puede obtener más información en la documentación oficial de la librería `scipy.stats.linregress` dando clic [aquí](https://docs.scipy.org/doc/scipy/reference/generated/scipy.stats.linregress.html).\n",
    "</div>"
   ]
  },
  {
   "cell_type": "code",
   "execution_count": 9,
   "metadata": {},
   "outputs": [
    {
     "name": "stdout",
     "output_type": "stream",
     "text": [
      "0.8589829730928724 0.3952496804554846 0.990415555943772 2.0338504705338605e-33 0.019693439910929887\n"
     ]
    }
   ],
   "source": [
    "# PASO 1. Asignar variables\n",
    "x_values = np.log10(df['Mass (Kg)'].values)\n",
    "y_values = np.log10(df['Maximum Brake Horsepower (BHP)'].values)\n",
    "\n",
    "# PASO 2. Obtener métricas estadísticas con `scipy`\n",
    "slope, intercept, r_value, p_value, std_err = scipy.stats.linregress(x_values, y_values)\n",
    "\n",
    "print(slope, intercept, r_value, p_value, std_err)"
   ]
  },
  {
   "cell_type": "markdown",
   "metadata": {},
   "source": [
    "¿Qué se puede entender del parámetro `r_value`?\n",
    "\n",
    "$R^2$ es el **coeficiente de correlación** e indica la relación entre los dos conjuntos de mediciones.\n",
    "\n",
    "<img src='./img/coeficiente_correlacion.png' width='350'/>\n",
    "\n",
    "Figura tomada de [Viva El Software Libre](https://vivaelsoftwarelibre.com/coeficiente-de-correlacion-en-r/)."
   ]
  },
  {
   "attachments": {},
   "cell_type": "markdown",
   "metadata": {},
   "source": [
    "### 1.2.4. Ajuste Lineal con `sklearn`\n",
    "\n",
    "Similar a `numpy.polyfit`, la función `sklearn.linear_model.LinearRegression` únicamente requiere las coordenadas del conjunto (`x` y `y`).\n",
    "\n",
    "<div class='alert alert-block alert-info'>   \n",
    "    \n",
    "<i class='fa fa-info-circle' aria-hidden='true'></i>\n",
    "Puede obtener más información en la documentación oficial de la librería `sklearn.linear_model.LinearRegression` dando clic [aquí](https://scikit-learn.org/stable/modules/generated/sklearn.linear_model.LinearRegression.html).\n",
    "</div>"
   ]
  },
  {
   "cell_type": "code",
   "execution_count": 10,
   "metadata": {
    "scrolled": true
   },
   "outputs": [
    {
     "data": {
      "text/plain": [
       "array([-0.86966623, -0.82390874, -0.60205999, -0.56863624, -0.36653154,\n",
       "       -0.30980392, -0.21467016, -0.1739252 , -0.03952922, -0.03151705,\n",
       "        0.38916608,  0.54406804,  1.53147892,  1.83250891,  1.87506126,\n",
       "        1.89762709,  1.91381385,  2.07188201,  2.07554696,  2.13033377,\n",
       "        2.17609126,  2.23299611,  2.26007139,  2.35983548,  2.38916608,\n",
       "        2.51982799,  2.86628734,  2.94694327,  3.07188201,  3.14612804,\n",
       "        3.24919836,  3.29225607,  3.30103   ,  3.72098574,  4.03542974,\n",
       "        4.10924097,  4.13033377,  4.98766626,  5.00987563])"
      ]
     },
     "execution_count": 10,
     "metadata": {},
     "output_type": "execute_result"
    }
   ],
   "source": [
    "from sklearn.linear_model import LinearRegression\n",
    "\n",
    "# PASO 1. Asignar variables\n",
    "x_values = np.log10(df['Mass (Kg)'].values)\n",
    "y_values = np.log10(df['Maximum Brake Horsepower (BHP)'].values)\n",
    "\n",
    "x_values"
   ]
  },
  {
   "cell_type": "code",
   "execution_count": 11,
   "metadata": {},
   "outputs": [
    {
     "data": {
      "text/plain": [
       "array([[-0.86966623],\n",
       "       [-0.82390874],\n",
       "       [-0.60205999],\n",
       "       [-0.56863624],\n",
       "       [-0.36653154],\n",
       "       [-0.30980392],\n",
       "       [-0.21467016],\n",
       "       [-0.1739252 ],\n",
       "       [-0.03952922],\n",
       "       [-0.03151705],\n",
       "       [ 0.38916608],\n",
       "       [ 0.54406804],\n",
       "       [ 1.53147892],\n",
       "       [ 1.83250891],\n",
       "       [ 1.87506126],\n",
       "       [ 1.89762709],\n",
       "       [ 1.91381385],\n",
       "       [ 2.07188201],\n",
       "       [ 2.07554696],\n",
       "       [ 2.13033377],\n",
       "       [ 2.17609126],\n",
       "       [ 2.23299611],\n",
       "       [ 2.26007139],\n",
       "       [ 2.35983548],\n",
       "       [ 2.38916608],\n",
       "       [ 2.51982799],\n",
       "       [ 2.86628734],\n",
       "       [ 2.94694327],\n",
       "       [ 3.07188201],\n",
       "       [ 3.14612804],\n",
       "       [ 3.24919836],\n",
       "       [ 3.29225607],\n",
       "       [ 3.30103   ],\n",
       "       [ 3.72098574],\n",
       "       [ 4.03542974],\n",
       "       [ 4.10924097],\n",
       "       [ 4.13033377],\n",
       "       [ 4.98766626],\n",
       "       [ 5.00987563]])"
      ]
     },
     "execution_count": 11,
     "metadata": {},
     "output_type": "execute_result"
    }
   ],
   "source": [
    "# PASO 2. Reajuste a 2D\n",
    "x_values = np.array(x_values).reshape(-1,1)\n",
    "y_values = np.array(y_values).reshape(-1,1)\n",
    "\n",
    "x_values"
   ]
  },
  {
   "cell_type": "code",
   "execution_count": 13,
   "metadata": {},
   "outputs": [
    {
     "name": "stdout",
     "output_type": "stream",
     "text": [
      "Pendiente: [[0.85898297]]\n",
      "Intercepto: [0.39524968]\n"
     ]
    }
   ],
   "source": [
    "# PASO 3. Obtener métricas estadísticas con `sklearn`\n",
    "linreg = LinearRegression().fit(x_values, y_values)\n",
    "\n",
    "print(f'Pendiente: {linreg.coef_}\\nIntercepto: {linreg.intercept_}')"
   ]
  },
  {
   "cell_type": "markdown",
   "metadata": {},
   "source": [
    "## 1.3. Actividad Clase 5: Caso Práctico\n",
    "\n",
    "<div class=\"alert alert-block alert-warning\">\n",
    "\n",
    "Queremos obtener el ajuste lineal al correlacionar las variables `Mass (Kg)` y `Displacement (cm3)`. Esta relación también es $log-log$.\n",
    "\n",
    "El paso a paso que debemos hacer es:\n",
    "1. Transformar los datos al valor logaritmo.\n",
    "2. Realizar el ajuste lineal de mínimos cuadrados (OLS).\n",
    "3. Extraer los valores de *pendiente* e *intercepto*.\n",
    "4. Estimar el valor de $R^2$.\n",
    "4. Crear la gráfica base.\n",
    "5. Agregar la línea de tendencia.\n",
    "\n",
    "</div>"
   ]
  },
  {
   "cell_type": "code",
   "execution_count": 14,
   "metadata": {},
   "outputs": [],
   "source": [
    "# PASO 1. Asignar variables\n",
    "x_values = np.log10(df['Mass (Kg)'].values)\n",
    "y_values = np.log10(df['Displacement (cm3)'].values)"
   ]
  },
  {
   "cell_type": "code",
   "execution_count": 15,
   "metadata": {},
   "outputs": [
    {
     "name": "stdout",
     "output_type": "stream",
     "text": [
      "Pendiente: 1.1561457869504965\n",
      "Intercepto: 1.245830716622399\n"
     ]
    }
   ],
   "source": [
    "# PASO 2 y 3. Obtener métricas estadísticas con `scipy`\n",
    "slope, intercept, r_value, p_value, std_err = scipy.stats.linregress(x_values, y_values)\n",
    "\n",
    "print(f'Pendiente: {slope}\\nIntercepto: {intercept}')"
   ]
  },
  {
   "cell_type": "code",
   "execution_count": 16,
   "metadata": {},
   "outputs": [
    {
     "name": "stdout",
     "output_type": "stream",
     "text": [
      "R2: 0.9938895519155742\n"
     ]
    }
   ],
   "source": [
    "# PASO 4. R2\n",
    "r2 = r_value**2\n",
    "\n",
    "print(f'R2: {r2}')"
   ]
  },
  {
   "cell_type": "code",
   "execution_count": 17,
   "metadata": {},
   "outputs": [
    {
     "data": {
      "image/png": "[encoded data removed]",
      "text/plain": [
       "<Figure size 576x360 with 1 Axes>"
      ]
     },
     "metadata": {
      "needs_background": "light"
     },
     "output_type": "display_data"
    }
   ],
   "source": [
    "# PASO 5 y 6. Gráficas\n",
    "hor = 8\n",
    "ver = 5\n",
    "plt.figure(figsize=(hor, ver))\n",
    "\n",
    "## 5.1. Gráfica de datos\n",
    "plt.plot(x_values, y_values, color='dodgerblue', ls='', marker='o', ms=10, fillstyle='none')\n",
    "\n",
    "## 5.2. Gráfica del OLS\n",
    "plt.plot(x_values,\n",
    "         slope*x_values + intercept, \n",
    "         linestyle='--',\n",
    "         color='crimson',\n",
    "         linewidth=1,\n",
    "         zorder=10,\n",
    "         label=(f'y = {np.round(slope, 2)} $\\cdot$ X + {np.round(intercept, 2)}'))\n",
    "\n",
    "## 5.3. Otros parámetros\n",
    "plt.rcParams['axes.axisbelow'] = True\n",
    "\n",
    "plt.title('Relación log MBHP y log Desplazamiento', fontsize=15)\n",
    "plt.ylabel('MBHP (hp)', fontsize=13)\n",
    "plt.xlabel('Desplazamiento (cm$^3$)', fontsize=13)\n",
    "\n",
    "plt.tick_params(direction='out', length=5, width=0.75, grid_alpha=0.3)\n",
    "plt.xticks(rotation=0)\n",
    "plt.minorticks_on()\n",
    "plt.ylim(None, None)\n",
    "plt.xlim(None, None)\n",
    "plt.grid(True)\n",
    "plt.grid(visible=True, which='major', color='grey', linestyle='-')\n",
    "plt.grid(visible=True, which='minor', color='lightgrey', linestyle='-', alpha=0.2)\n",
    "plt.legend(loc='best', fontsize=11)\n",
    "plt.tight_layout;"
   ]
  },
  {
   "cell_type": "markdown",
   "metadata": {},
   "source": [
    "## 1.4. Histogramas\n",
    "\n",
    "Los histogramas permiten visualizar la distribución de un conjunto de datos a partir de la frecuencia de los valores representados en un rango específico.\n",
    "\n",
    "Como lo vimos anteriormente, utilizamos la función `plt.bar`.\n",
    "\n",
    "<div class='alert alert-block alert-info'>   \n",
    "    \n",
    "<i class='fa fa-info-circle' aria-hidden='true'></i>\n",
    "Puede obtener más información en la documentación oficial de la librería `matplotlib.pyplot.hist` dando clic [aquí](https://matplotlib.org/stable/api/_as_gen/matplotlib.pyplot.hist.html).\n",
    "</div>"
   ]
  },
  {
   "cell_type": "code",
   "execution_count": 18,
   "metadata": {},
   "outputs": [
    {
     "data": {
      "image/png": "[encoded data removed]",
      "text/plain": [
       "<Figure size 504x360 with 1 Axes>"
      ]
     },
     "metadata": {
      "needs_background": "light"
     },
     "output_type": "display_data"
    }
   ],
   "source": [
    "# Variables\n",
    "y = np.log10(df['Maximum Brake Horsepower (BHP)'].values)\n",
    "\n",
    "mu = np.round(np.mean(y), 1)\n",
    "sigma = np.round(np.std(y), 1)\n",
    "\n",
    "# Gráfica\n",
    "hor = 7\n",
    "ver = 5\n",
    "plt.figure(figsize=(hor, ver))\n",
    "\n",
    "plt.hist(y, bins=20, color='lightgrey', alpha=1) # Note el parámetro bins\n",
    "\n",
    "plt.axvline(x=mu, color='red', linestyle='--', linewidth=0.75, label=f'Promedio: {mu}') # Promedio\n",
    "plt.axvline(x=mu+sigma, color='dodgerblue', linestyle='--', linewidth=0.75, label=f'$\\mu + \\sigma$: {mu+sigma}') # +Desviación\n",
    "plt.axvline(x=mu-sigma, color='dodgerblue', linestyle='--', linewidth=0.75, label=f'$\\mu - \\sigma$: {mu-sigma}') # -Desviación\n",
    "\n",
    "plt.rcParams['axes.axisbelow'] = True\n",
    "\n",
    "plt.title('Histograma MBHP', fontsize=15);\n",
    "plt.ylabel('Frecuencia', fontsize=13);\n",
    "plt.xlabel('Magnitud (hp)', fontsize=13);\n",
    "\n",
    "plt.tick_params(direction='out', length=5, width=0.75, grid_alpha=0.3)\n",
    "plt.xticks(rotation=0)\n",
    "plt.ylim(None, None)\n",
    "plt.xlim(None, None)\n",
    "plt.grid(True)\n",
    "plt.legend(loc='best', bbox_to_anchor=(1,1), fontsize=11)\n",
    "plt.tight_layout;"
   ]
  },
  {
   "cell_type": "markdown",
   "metadata": {},
   "source": [
    "¿Qué interpretación le damos a este histograma?"
   ]
  }
 ],
 "metadata": {
  "kernelspec": {
   "display_name": "hc",
   "language": "python",
   "name": "python3"
  },
  "language_info": {
   "codemirror_mode": {
    "name": "ipython",
    "version": 3
   },
   "file_extension": ".py",
   "mimetype": "text/x-python",
   "name": "python",
   "nbconvert_exporter": "python",
   "pygments_lexer": "ipython3",
   "version": "3.9.12"
  },
  "toc": {
   "base_numbering": 1,
   "nav_menu": {},
   "number_sections": false,
   "sideBar": true,
   "skip_h1_title": true,
   "title_cell": "Table of Contents",
   "title_sidebar": "Contents",
   "toc_cell": false,
   "toc_position": {},
   "toc_section_display": true,
   "toc_window_display": false
  }
 },
 "nbformat": 4,
 "nbformat_minor": 2
}
